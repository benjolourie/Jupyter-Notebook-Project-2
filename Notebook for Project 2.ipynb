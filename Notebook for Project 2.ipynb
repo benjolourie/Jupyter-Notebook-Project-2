{
    "cells": [
        {
            "metadata": {},
            "cell_type": "markdown",
            "source": "Project 2 file (log)"
        },
        {
            "metadata": {},
            "cell_type": "code",
            "source": "\nimport types\nimport pandas as pd\nfrom botocore.client import Config\nimport ibm_boto3\n\ndef __iter__(self): return 0\n\n# @hidden_cell\n# The following code accesses a file in your IBM Cloud Object Storage. It includes your credentials.\n# You might want to remove those credentials before you share the notebook.\nclient_be6f4fa68fac4ba38b4601d01ae96225 = ibm_boto3.client(service_name='s3',\n    ibm_api_key_id='BbSJ11HmLNgBr08QZYBSJ6WcajnVVvGDU3WtK8dBz4F3',\n    ibm_auth_endpoint=\"https://iam.cloud.ibm.com/oidc/token\",\n    config=Config(signature_version='oauth'),\n    endpoint_url='https://s3.eu-geo.objectstorage.service.networklayer.com')\n\nbody = client_be6f4fa68fac4ba38b4601d01ae96225.get_object(Bucket='project2-donotdelete-pr-jkzjgrcqjnjkd5',Key='Log.xlsx')['Body']\n# add missing __iter__ method, so pandas accepts body as file-like object\nif not hasattr(body, \"__iter__\"): body.__iter__ = types.MethodType( __iter__, body )\n\ndf_data_0 = pd.read_excel(body)\ndf_data_0.head()\n",
            "execution_count": 1,
            "outputs": [
                {
                    "output_type": "execute_result",
                    "execution_count": 1,
                    "data": {
                        "text/plain": "           Company                                         Job Role  \\\n0              PWC                    Graduate Consulting Economics   \n1  BAILLIE GIFFORD                              Business Operations   \n2           CAPITA                                     Data Analyst   \n3           Pareto                                     Data Analyst   \n4         Deloitte  Strategy, Analytics and Mergers & Acquisitions\u00a0   \n\n      Application Stage Action Required? Accepted or Rejected  \\\n0         Done 2nd Test               NO             REJECTED   \n1  APPLIED - FIRST STEP               NO             REJECTED   \n2  APPLIED - FIRST STEP               NO              IN PLAY   \n3  APPLIED - FIRST STEP               NO              IN PLAY   \n4        DONE INTERVIEW               NO             REJECTED   \n\n  Password requirements  Number of applications in play  \n0                   NaN                            20.0  \n1                   NaN                             NaN  \n2                   NaN                             NaN  \n3                   NaN                             NaN  \n4                   NaN                             NaN  ",
                        "text/html": "<div>\n<style scoped>\n    .dataframe tbody tr th:only-of-type {\n        vertical-align: middle;\n    }\n\n    .dataframe tbody tr th {\n        vertical-align: top;\n    }\n\n    .dataframe thead th {\n        text-align: right;\n    }\n</style>\n<table border=\"1\" class=\"dataframe\">\n  <thead>\n    <tr style=\"text-align: right;\">\n      <th></th>\n      <th>Company</th>\n      <th>Job Role</th>\n      <th>Application Stage</th>\n      <th>Action Required?</th>\n      <th>Accepted or Rejected</th>\n      <th>Password requirements</th>\n      <th>Number of applications in play</th>\n    </tr>\n  </thead>\n  <tbody>\n    <tr>\n      <th>0</th>\n      <td>PWC</td>\n      <td>Graduate Consulting Economics</td>\n      <td>Done 2nd Test</td>\n      <td>NO</td>\n      <td>REJECTED</td>\n      <td>NaN</td>\n      <td>20.0</td>\n    </tr>\n    <tr>\n      <th>1</th>\n      <td>BAILLIE GIFFORD</td>\n      <td>Business Operations</td>\n      <td>APPLIED - FIRST STEP</td>\n      <td>NO</td>\n      <td>REJECTED</td>\n      <td>NaN</td>\n      <td>NaN</td>\n    </tr>\n    <tr>\n      <th>2</th>\n      <td>CAPITA</td>\n      <td>Data Analyst</td>\n      <td>APPLIED - FIRST STEP</td>\n      <td>NO</td>\n      <td>IN PLAY</td>\n      <td>NaN</td>\n      <td>NaN</td>\n    </tr>\n    <tr>\n      <th>3</th>\n      <td>Pareto</td>\n      <td>Data Analyst</td>\n      <td>APPLIED - FIRST STEP</td>\n      <td>NO</td>\n      <td>IN PLAY</td>\n      <td>NaN</td>\n      <td>NaN</td>\n    </tr>\n    <tr>\n      <th>4</th>\n      <td>Deloitte</td>\n      <td>Strategy, Analytics and Mergers &amp; Acquisitions</td>\n      <td>DONE INTERVIEW</td>\n      <td>NO</td>\n      <td>REJECTED</td>\n      <td>NaN</td>\n      <td>NaN</td>\n    </tr>\n  </tbody>\n</table>\n</div>"
                    },
                    "metadata": {}
                }
            ]
        },
        {
            "metadata": {},
            "cell_type": "code",
            "source": "",
            "execution_count": null,
            "outputs": []
        }
    ],
    "metadata": {
        "kernelspec": {
            "name": "python3",
            "display_name": "Python 3.6",
            "language": "python"
        },
        "language_info": {
            "name": "python",
            "version": "3.6.9",
            "mimetype": "text/x-python",
            "codemirror_mode": {
                "name": "ipython",
                "version": 3
            },
            "pygments_lexer": "ipython3",
            "nbconvert_exporter": "python",
            "file_extension": ".py"
        }
    },
    "nbformat": 4,
    "nbformat_minor": 1
}